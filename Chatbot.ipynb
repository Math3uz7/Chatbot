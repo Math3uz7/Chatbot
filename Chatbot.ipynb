{
  "nbformat": 4,
  "nbformat_minor": 0,
  "metadata": {
    "colab": {
      "provenance": [],
      "authorship_tag": "ABX9TyOVvLskajwRIdDVcGkwzlp5"
    },
    "kernelspec": {
      "name": "python3",
      "display_name": "Python 3"
    },
    "language_info": {
      "name": "python"
    }
  },
  "cells": [
    {
      "cell_type": "markdown",
      "source": [
        "Instalando USDK do Google"
      ],
      "metadata": {
        "id": "KHlOT5K164os"
      }
    },
    {
      "cell_type": "code",
      "source": [
        "!pip install -q -U google-generativeai"
      ],
      "metadata": {
        "id": "uRN-KsNI7BcW"
      },
      "execution_count": null,
      "outputs": []
    },
    {
      "cell_type": "code",
      "source": [
        "# Import the Python SDK\n",
        "import google.generativeai as genai\n",
        "from google.colab import  userdata\n",
        "api_key = userdata.get(\"secret_key\")\n",
        "\n",
        "genai.configure(api_key = api_key)"
      ],
      "metadata": {
        "id": "fsQp6G_I7W7R"
      },
      "execution_count": 23,
      "outputs": []
    },
    {
      "cell_type": "markdown",
      "source": [
        " Modelos dispoveis"
      ],
      "metadata": {
        "id": "P2ICoFuV7qTf"
      }
    },
    {
      "cell_type": "code",
      "source": [
        "for modelo in genai.list_models():\n",
        "  if \"generateContent\" in modelo.supported_generation_methods:\n",
        "    print(modelo.name)"
      ],
      "metadata": {
        "id": "MB3F-atL7xov"
      },
      "execution_count": null,
      "outputs": []
    },
    {
      "cell_type": "code",
      "source": [
        "Configuracao = {\n",
        "    \"candidate_count\": 1,\n",
        "    \"temperature\":0.5,\n",
        "}"
      ],
      "metadata": {
        "id": "fPZXNwqy-OtV"
      },
      "execution_count": null,
      "outputs": []
    },
    {
      "cell_type": "code",
      "source": [
        "ConfiguracaoDeSeguranca ={\n",
        "    \"HARASSMENT\" : \"BLOCK_NONE\",\n",
        "    \"HATE\" : \"BLOCK_NONE\",\n",
        "    \"SEXUAL\" : \"BLOCK_NONE\",\n",
        "    \"DANGEROUS\" : \"BLOCK_NONE\",\n",
        "}"
      ],
      "metadata": {
        "id": "WdRDE1xd-6Y8"
      },
      "execution_count": null,
      "outputs": []
    },
    {
      "cell_type": "markdown",
      "source": [
        "Inicio do modelo"
      ],
      "metadata": {
        "id": "EjJ2vWHwAcdK"
      }
    },
    {
      "cell_type": "code",
      "source": [
        "model = genai.GenerativeModel(model_name=\"gemini-1.0-pro\",\n",
        "                              generation_config= Configuracao,\n",
        "                              safety_settings= ConfiguracaoDeSeguranca)"
      ],
      "metadata": {
        "id": "T8QK3mRiAjIH"
      },
      "execution_count": null,
      "outputs": []
    },
    {
      "cell_type": "code",
      "source": [
        "response = model.generate_content(\"Me de as boas-vindas\")\n",
        "print(response.text)"
      ],
      "metadata": {
        "id": "1zcZmel8B7Il"
      },
      "execution_count": null,
      "outputs": []
    },
    {
      "cell_type": "code",
      "source": [
        "chat = model.start_chat(history=[])"
      ],
      "metadata": {
        "id": "WoB6QN49CRhs"
      },
      "execution_count": null,
      "outputs": []
    },
    {
      "cell_type": "markdown",
      "source": [
        "Adiciona um estilo e melhor vizualização"
      ],
      "metadata": {
        "id": "je0TqW6qIHv8"
      }
    },
    {
      "cell_type": "code",
      "source": [
        "#Melhorando a visualização\n",
        "#Código disponível em https://ai.google.dev/tutorials/python_quickstart#import_packages\n",
        "import textwrap\n",
        "from IPython.display import display\n",
        "from IPython.display import Markdown\n",
        "\n",
        "def to_markdown(text):\n",
        "  text = text.replace('•', '  *')\n",
        "  return Markdown(textwrap.indent(text, '> ', predicate=lambda _: True))\n",
        "\n",
        "#Imprimindo o histórico\n",
        "for message in chat.history:\n",
        "  display(to_markdown(f'**{message.role}**: {message.parts[0].text}'))\n",
        "  print('-------------------------------------------')"
      ],
      "metadata": {
        "id": "rjsszKxEGlcB"
      },
      "execution_count": null,
      "outputs": []
    },
    {
      "cell_type": "code",
      "source": [
        "prompt = input(\"Aguardando pergunta...  \")\n",
        "\n",
        "while  prompt != \"fim\":\n",
        " response = chat.send_message(prompt)\n",
        " print(\"REPOSTA: \", response.text, \"/n\")\n",
        "\n",
        " prompt = input(\"Aguardando pergunta...  \")\n"
      ],
      "metadata": {
        "id": "siN0HKKUC6Qb"
      },
      "execution_count": null,
      "outputs": []
    }
  ]
}